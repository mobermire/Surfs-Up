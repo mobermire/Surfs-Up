{
  "nbformat": 4,
  "nbformat_minor": 0,
  "metadata": {
    "colab": {
      "name": "SQLclimate_starter.ipynb",
      "version": "0.3.2",
      "provenance": [],
      "collapsed_sections": [],
      "toc_visible": true
    },
    "kernelspec": {
      "display_name": "Python [default]",
      "language": "python",
      "name": "python3"
    }
  },
  "cells": [
    {
      "metadata": {
        "id": "PC60VX1JqbR1",
        "colab_type": "code",
        "colab": {}
      },
      "cell_type": "code",
      "source": [
        "%matplotlib inline\n",
        "from matplotlib import style\n",
        "from matplotlib import dates\n",
        "style.use('fivethirtyeight')\n",
        "import matplotlib.pyplot as plt\n"
      ],
      "execution_count": 0,
      "outputs": []
    },
    {
      "metadata": {
        "id": "QyLH8Oi1qbSD",
        "colab_type": "code",
        "colab": {}
      },
      "cell_type": "code",
      "source": [
        "import numpy as np\n",
        "import pandas as pd"
      ],
      "execution_count": 0,
      "outputs": []
    },
    {
      "metadata": {
        "id": "bIeeGfdNqbSP",
        "colab_type": "code",
        "colab": {}
      },
      "cell_type": "code",
      "source": [
        "import datetime as dt"
      ],
      "execution_count": 0,
      "outputs": []
    },
    {
      "metadata": {
        "id": "wAvRQ8EPBf0B",
        "colab_type": "code",
        "outputId": "1bf6a53f-57e8-4343-8137-d56ac1d5c745",
        "colab": {
          "base_uri": "https://localhost:8080/",
          "height": 188
        }
      },
      "cell_type": "code",
      "source": [
        "!pip install sqlalchemy"
      ],
      "execution_count": 4,
      "outputs": [
        {
          "output_type": "stream",
          "text": [
            "Collecting sqlalchemy\n",
            "\u001b[?25l  Downloading https://files.pythonhosted.org/packages/25/c9/b0552098cee325425a61efdf380c51b5c721e459081c85bbb860f501c091/SQLAlchemy-1.2.12.tar.gz (5.6MB)\n",
            "\u001b[K    100% |████████████████████████████████| 5.6MB 5.7MB/s \n",
            "\u001b[?25hBuilding wheels for collected packages: sqlalchemy\n",
            "  Running setup.py bdist_wheel for sqlalchemy ... \u001b[?25l-\b \b\\\b \b|\b \b/\b \b-\b \b\\\b \b|\b \b/\b \bdone\n",
            "\u001b[?25h  Stored in directory: /root/.cache/pip/wheels/ed/bd/2e/d3874a6e97b8cc71e7e177c8d065ead30f67f380c4d9bbadaa\n",
            "Successfully built sqlalchemy\n",
            "Installing collected packages: sqlalchemy\n",
            "Successfully installed sqlalchemy-1.2.12\n"
          ],
          "name": "stdout"
        }
      ]
    },
    {
      "metadata": {
        "id": "WqtLYBYjqbSc",
        "colab_type": "text"
      },
      "cell_type": "markdown",
      "source": [
        "# Reflect Tables into SQLAlchemy ORM"
      ]
    },
    {
      "metadata": {
        "id": "2lc8AJpsqbSf",
        "colab_type": "code",
        "colab": {}
      },
      "cell_type": "code",
      "source": [
        "# Python SQL toolkit and Object Relational Mapper\n",
        "import sqlalchemy\n",
        "from sqlalchemy.ext.automap import automap_base\n",
        "from sqlalchemy.orm import Session\n",
        "from sqlalchemy import create_engine, func, inspect"
      ],
      "execution_count": 0,
      "outputs": []
    },
    {
      "metadata": {
        "id": "ZK7N2Y9XqbSp",
        "colab_type": "code",
        "colab": {}
      },
      "cell_type": "code",
      "source": [
        "engine = create_engine(\"sqlite:///hawaii.sqlite\")"
      ],
      "execution_count": 0,
      "outputs": []
    },
    {
      "metadata": {
        "id": "b-BdMs56qbS1",
        "colab_type": "code",
        "colab": {}
      },
      "cell_type": "code",
      "source": [
        "# reflect an existing database into a new model\n",
        "Base = automap_base()\n",
        "# reflect the tables\n",
        "Base.prepare(engine, reflect=True)"
      ],
      "execution_count": 0,
      "outputs": []
    },
    {
      "metadata": {
        "id": "4CXJRm85qbTB",
        "colab_type": "code",
        "outputId": "121b1717-8204-432e-ee5b-d35a683f127f",
        "colab": {
          "base_uri": "https://localhost:8080/",
          "height": 34
        }
      },
      "cell_type": "code",
      "source": [
        "# We can view all of the classes that automap found\n",
        "Base.classes.keys()"
      ],
      "execution_count": 8,
      "outputs": [
        {
          "output_type": "execute_result",
          "data": {
            "text/plain": [
              "['measurement', 'station']"
            ]
          },
          "metadata": {
            "tags": []
          },
          "execution_count": 8
        }
      ]
    },
    {
      "metadata": {
        "id": "DwOWkWj4qbTb",
        "colab_type": "code",
        "colab": {}
      },
      "cell_type": "code",
      "source": [
        "# Save references to each table\n",
        "Measurement = Base.classes.measurement\n",
        "Station = Base.classes.station"
      ],
      "execution_count": 0,
      "outputs": []
    },
    {
      "metadata": {
        "id": "0wBGrdz0qbTp",
        "colab_type": "code",
        "colab": {}
      },
      "cell_type": "code",
      "source": [
        "# Create our session (link) from Python to the DB\n",
        "session = Session(engine)"
      ],
      "execution_count": 0,
      "outputs": []
    },
    {
      "metadata": {
        "id": "51EdP2MyqbTz",
        "colab_type": "text"
      },
      "cell_type": "markdown",
      "source": [
        "# Exploratory Climate Analysis"
      ]
    },
    {
      "metadata": {
        "id": "6AKFV_RZqbT3",
        "colab_type": "code",
        "outputId": "dac944d2-24ac-410f-9964-bad6eb00243a",
        "colab": {
          "base_uri": "https://localhost:8080/",
          "height": 373
        }
      },
      "cell_type": "code",
      "source": [
        "# Design a query to retrieve the last 12 months of precipitation data and plot the results\n",
        "inspector = inspect(engine)\n",
        "\n",
        "columns = inspector.get_columns('measurement')\n",
        "for c in columns:\n",
        "  print (c[\"name\"], c[\"type\"]) \n",
        "  \n",
        "# Calculate the date 1 year ago from today\n",
        "d1 = dt.date(2017,8,23)\n",
        "yr_ago = d1- dt.timedelta(days=365)\n",
        "\n",
        "# Perform a query to retrieve the data and precipitation scores\n",
        "results = session.query(Measurement.date, Measurement.prcp).filter(Measurement.date >= yr_ago, Measurement.date <= d1).group_by(Measurement.date)\n",
        "\n",
        "# Save the query results as a Pandas DataFrame and set the index to the date column\n",
        "date = [result for result in results]\n",
        "q1_df = pd.DataFrame(date)\n",
        "q1_df.set_index('date', inplace=True, )\n",
        "\n",
        "# Sort the dataframe by date\n",
        "q1_df.sort_index(ascending=False)\n",
        "\n",
        "# Use Pandas Plotting with Matplotlib to plot the data\n",
        "q1_df.plot(kind = 'bar', title = 'Precipitation in Hawaii', rot = 90)\n",
        "plt.ylabel('Precipitation')\n",
        "plt.xlabel('Date')\n",
        "plt.tight_layout()\n",
        "\n",
        "# Rotate the xticks for the dates\n"
      ],
      "execution_count": 11,
      "outputs": [
        {
          "output_type": "stream",
          "text": [
            "id INTEGER\n",
            "station TEXT\n",
            "date TEXT\n",
            "prcp FLOAT\n",
            "tobs FLOAT\n"
          ],
          "name": "stdout"
        },
        {
          "output_type": "display_data",
          "data": {
            "image/png": "[encoded data removed]",
            "text/plain": [
              "<matplotlib.figure.Figure at 0x7fe4c6bbac88>"
            ]
          },
          "metadata": {
            "tags": []
          }
        }
      ]
    },
    {
      "metadata": {
        "id": "0NqeBhTAojWq",
        "colab_type": "code",
        "colab": {
          "base_uri": "https://localhost:8080/",
          "height": 34
        },
        "outputId": "2b1842de-53bd-4ce0-c3ec-9e894d6fdf42"
      },
      "cell_type": "code",
      "source": [
        "yr_ago"
      ],
      "execution_count": 12,
      "outputs": [
        {
          "output_type": "execute_result",
          "data": {
            "text/plain": [
              "datetime.date(2016, 8, 23)"
            ]
          },
          "metadata": {
            "tags": []
          },
          "execution_count": 12
        }
      ]
    },
    {
      "metadata": {
        "id": "Epr3uezBqbUC",
        "colab_type": "text"
      },
      "cell_type": "markdown",
      "source": [
        "![precipitation](Images/precipitation.png)"
      ]
    },
    {
      "metadata": {
        "id": "-SxtiHwdqbUH",
        "colab_type": "code",
        "outputId": "aadd8e86-665a-4ee1-b0d1-e00f53a80fc5",
        "colab": {
          "base_uri": "https://localhost:8080/",
          "height": 284
        }
      },
      "cell_type": "code",
      "source": [
        "# Use Pandas to calcualte the summary statistics for the precipitation data\n",
        "q1_df.describe()"
      ],
      "execution_count": 13,
      "outputs": [
        {
          "output_type": "execute_result",
          "data": {
            "text/html": [
              "<div>\n",
              "<style scoped>\n",
              "    .dataframe tbody tr th:only-of-type {\n",
              "        vertical-align: middle;\n",
              "    }\n",
              "\n",
              "    .dataframe tbody tr th {\n",
              "        vertical-align: top;\n",
              "    }\n",
              "\n",
              "    .dataframe thead th {\n",
              "        text-align: right;\n",
              "    }\n",
              "</style>\n",
              "<table border=\"1\" class=\"dataframe\">\n",
              "  <thead>\n",
              "    <tr style=\"text-align: right;\">\n",
              "      <th></th>\n",
              "      <th>prcp</th>\n",
              "    </tr>\n",
              "  </thead>\n",
              "  <tbody>\n",
              "    <tr>\n",
              "      <th>count</th>\n",
              "      <td>345.000000</td>\n",
              "    </tr>\n",
              "    <tr>\n",
              "      <th>mean</th>\n",
              "      <td>0.432087</td>\n",
              "    </tr>\n",
              "    <tr>\n",
              "      <th>std</th>\n",
              "      <td>0.704363</td>\n",
              "    </tr>\n",
              "    <tr>\n",
              "      <th>min</th>\n",
              "      <td>0.000000</td>\n",
              "    </tr>\n",
              "    <tr>\n",
              "      <th>25%</th>\n",
              "      <td>0.010000</td>\n",
              "    </tr>\n",
              "    <tr>\n",
              "      <th>50%</th>\n",
              "      <td>0.140000</td>\n",
              "    </tr>\n",
              "    <tr>\n",
              "      <th>75%</th>\n",
              "      <td>0.580000</td>\n",
              "    </tr>\n",
              "    <tr>\n",
              "      <th>max</th>\n",
              "      <td>6.700000</td>\n",
              "    </tr>\n",
              "  </tbody>\n",
              "</table>\n",
              "</div>"
            ],
            "text/plain": [
              "             prcp\n",
              "count  345.000000\n",
              "mean     0.432087\n",
              "std      0.704363\n",
              "min      0.000000\n",
              "25%      0.010000\n",
              "50%      0.140000\n",
              "75%      0.580000\n",
              "max      6.700000"
            ]
          },
          "metadata": {
            "tags": []
          },
          "execution_count": 13
        }
      ]
    },
    {
      "metadata": {
        "id": "U9l34wneqbUZ",
        "colab_type": "code",
        "outputId": "1c45e2df-d44e-40ca-8e66-30fa96f14aef",
        "colab": {
          "base_uri": "https://localhost:8080/",
          "height": 134
        }
      },
      "cell_type": "code",
      "source": [
        "# How many stations are available in this dataset?\n",
        "columns = inspector.get_columns('station')\n",
        "for c in columns:\n",
        "  print (c[\"name\"], c[\"type\"])\n",
        "\n",
        "n_station = session.query(Station.id).count()\n",
        "print(f'There are {n_station} stations in this dataset')"
      ],
      "execution_count": 14,
      "outputs": [
        {
          "output_type": "stream",
          "text": [
            "id INTEGER\n",
            "station TEXT\n",
            "name TEXT\n",
            "latitude FLOAT\n",
            "longitude FLOAT\n",
            "elevation FLOAT\n",
            "There are 9 stations in this dataset\n"
          ],
          "name": "stdout"
        }
      ]
    },
    {
      "metadata": {
        "id": "YFQvbSZsqbUk",
        "colab_type": "code",
        "colab": {
          "base_uri": "https://localhost:8080/",
          "height": 168
        },
        "outputId": "2c3ace33-a2c9-4eb8-ebca-7f2140dfc887"
      },
      "cell_type": "code",
      "source": [
        "# What are the most active stations?\n",
        "active = session.query(Station.name, func.count(Measurement.id)).filter(Measurement.station == Station.station).\\\n",
        "group_by(Measurement.station).order_by(func.count(Measurement.tobs).desc()).all()\n",
        " \n",
        "# List the stations and the counts in descending order.\n",
        "a= [site for site in active]\n",
        "a"
      ],
      "execution_count": 15,
      "outputs": [
        {
          "output_type": "execute_result",
          "data": {
            "text/plain": [
              "[('WAIHEE 837.5, HI US', 2772),\n",
              " ('WAIKIKI 717.2, HI US', 2724),\n",
              " ('KANEOHE 838.1, HI US', 2709),\n",
              " ('WAIMANALO EXPERIMENTAL FARM, HI US', 2669),\n",
              " ('MANOA LYON ARBO 785.2, HI US', 2612),\n",
              " ('KUALOA RANCH HEADQUARTERS 886.9, HI US', 2202),\n",
              " ('HONOLULU OBSERVATORY 702.2, HI US', 1979),\n",
              " ('PEARL CITY, HI US', 1372),\n",
              " ('UPPER WAHIAWA 874.3, HI US', 511)]"
            ]
          },
          "metadata": {
            "tags": []
          },
          "execution_count": 15
        }
      ]
    },
    {
      "metadata": {
        "id": "LdRTv_5SqbU_",
        "colab_type": "code",
        "colab": {
          "base_uri": "https://localhost:8080/",
          "height": 67
        },
        "outputId": "6471e2c4-3993-496c-86fe-3c2895af4c42"
      },
      "cell_type": "code",
      "source": [
        "# Using the station id from the previous query, calculate the lowest temperature recorded, \n",
        "# highest temperature recorded, and average temperature most active station?\n",
        "low = session.query(Station.name, Measurement.tobs).filter(Measurement.id == Station.id).\\\n",
        "group_by(Measurement.id).order_by(func.min(Measurement.tobs)).first()\n",
        "\n",
        "high = session.query(Station.name, Measurement.tobs).filter(Measurement.id == Station.id).\\\n",
        "group_by(Measurement.id).order_by(func.max(Measurement.tobs).desc()).first()\n",
        "\n",
        "avg =  session.query(Station.name, func.avg(Measurement.tobs)).filter(Station.name == 'WAIHEE 837.5, HI US').first()\n",
        "\n",
        "\n",
        "print(low)\n",
        "print(high)\n",
        "print(avg)"
      ],
      "execution_count": 16,
      "outputs": [
        {
          "output_type": "stream",
          "text": [
            "('KANEOHE 838.1, HI US', 63.0)\n",
            "('PEARL CITY, HI US', 76.0)\n",
            "('WAIHEE 837.5, HI US', 73.09795396419437)\n"
          ],
          "name": "stdout"
        }
      ]
    },
    {
      "metadata": {
        "id": "QV661SxqqbVL",
        "colab_type": "code",
        "colab": {
          "base_uri": "https://localhost:8080/",
          "height": 338
        },
        "outputId": "7ac65aa5-165d-44b3-c54a-0869888871ae"
      },
      "cell_type": "code",
      "source": [
        "# Choose the station with the highest number of temperature observations.\n",
        "# Query the last 12 months of temperature observation data for this station and plot the results as a histogram\n",
        "waihee_tobs = session.query(Measurement.tobs).\\\n",
        "filter(Station.name == \"WAIHEE 837.5, HI US\", Measurement.station == Station.station, Measurement.date >= yr_ago, Measurement.date <= d1)\n",
        "\n",
        "temps = [t for t in waihee_tobs]\n",
        "temps_df = pd.DataFrame(temps)\n",
        "temps_df\n",
        "\n",
        "plt.hist(temps_df, bins=12)\n",
        "plt.title(\"Temperature Observations for Waihee\")\n",
        "plt.ylabel('Frequency')\n",
        "plt.xlabel('Temperature')"
      ],
      "execution_count": 17,
      "outputs": [
        {
          "output_type": "execute_result",
          "data": {
            "text/plain": [
              "Text(0.5,0,'Temperature')"
            ]
          },
          "metadata": {
            "tags": []
          },
          "execution_count": 17
        },
        {
          "output_type": "display_data",
          "data": {
            "image/png": "[encoded data removed]",
            "text/plain": [
              "<matplotlib.figure.Figure at 0x7fe4c679d128>"
            ]
          },
          "metadata": {
            "tags": []
          }
        }
      ]
    },
    {
      "metadata": {
        "id": "rGtSWOZpqbVX",
        "colab_type": "code",
        "colab": {
          "base_uri": "https://localhost:8080/",
          "height": 34
        },
        "outputId": "4adf9cb5-4685-4811-c494-3fdbc069fb2a"
      },
      "cell_type": "code",
      "source": [
        "# Write a function called `calc_temps` that will accept start date and end date in the format '%Y-%m-%d' \n",
        "# and return the minimum, average, and maximum temperatures for that range of dates\n",
        "def calc_temps(start_date, end_date):\n",
        "    \"\"\"TMIN, TAVG, and TMAX for a list of dates.\n",
        "    \n",
        "    Args:\n",
        "        start_date (string): A date string in the format %Y-%m-%d\n",
        "        end_date (string): A date string in the format %Y-%m-%d\n",
        "        \n",
        "    Returns:\n",
        "        TMIN, TAVE, and TMAX\n",
        "    \"\"\"\n",
        "    \n",
        "    return session.query(func.min(Measurement.tobs), func.avg(Measurement.tobs), func.max(Measurement.tobs)).\\\n",
        "        filter(Measurement.date >= start_date).filter(Measurement.date <= end_date).all()\n",
        "print(calc_temps('2012-02-28', '2012-03-05'))"
      ],
      "execution_count": 18,
      "outputs": [
        {
          "output_type": "stream",
          "text": [
            "[(62.0, 69.57142857142857, 74.0)]\n"
          ],
          "name": "stdout"
        }
      ]
    },
    {
      "metadata": {
        "id": "eIQ41zS3qbVr",
        "colab_type": "code",
        "colab": {
          "base_uri": "https://localhost:8080/",
          "height": 34
        },
        "outputId": "53886a33-a9ac-4804-ab3f-1c1d915662ec"
      },
      "cell_type": "code",
      "source": [
        "# Use your previous function `calc_temps` to calculate the tmin, tavg, and tmax \n",
        "# for your trip using the previous year's data for those same dates.\n",
        "ct = list(np.ravel(calc_temps(\"2017-01-25\", \"2017-02-15\")))\n",
        "ct"
      ],
      "execution_count": 35,
      "outputs": [
        {
          "output_type": "execute_result",
          "data": {
            "text/plain": [
              "[59.0, 69.56643356643356, 80.0]"
            ]
          },
          "metadata": {
            "tags": []
          },
          "execution_count": 35
        }
      ]
    },
    {
      "metadata": {
        "id": "M2CB8ZIyqbV5",
        "colab_type": "code",
        "colab": {
          "base_uri": "https://localhost:8080/",
          "height": 291
        },
        "outputId": "7b098b06-2187-4ab2-85a4-8bc3588901df"
      },
      "cell_type": "code",
      "source": [
        "# Plot the results from your previous query as a bar chart. \n",
        "# Use \"Trip Avg Temp\" as your Title\n",
        "# Use the average temperature for the y value\n",
        "# Use the peak-to-peak (tmax-tmin) value as the y error bar (yerr)\n",
        "plt.bar(1, ct[1], yerr=(ct[2] - ct[0]), tick_label='', color='red')\n",
        "plt.ylabel(\"Temperature\")\n",
        "plt.title(\"Average Trip Temperature\")\n",
        "plt.show()"
      ],
      "execution_count": 38,
      "outputs": [
        {
          "output_type": "display_data",
          "data": {
            "image/png": "[encoded data removed]",
            "text/plain": [
              "<matplotlib.figure.Figure at 0x7fe4c3822dd8>"
            ]
          },
          "metadata": {
            "tags": []
          }
        }
      ]
    },
    {
      "metadata": {
        "id": "6ZkAi4yTqbWG",
        "colab_type": "code",
        "colab": {
          "base_uri": "https://localhost:8080/",
          "height": 672
        },
        "outputId": "173ce8cd-35ea-446a-c43d-d9ef7dd55304"
      },
      "cell_type": "code",
      "source": [
        "# Calculate the rainfall per weather station for your trip dates using the previous year's matching dates.\n",
        "# Sort this in descending order by precipitation amount and list the station, name, latitude, longitude, and elevation\n",
        "\n",
        "precep = session.query(Station.station, Station.name, Station.latitude, Station.longitude, Station.elevation, func.sum(Measurement.prcp)).\\\n",
        "filter(Measurement.id == Station.id).group_by(Station.station).order_by(func.sum(Measurement.prcp)).all()\n",
        "\n",
        "precep"
      ],
      "execution_count": 45,
      "outputs": [
        {
          "output_type": "execute_result",
          "data": {
            "text/plain": [
              "[('USC00518838',\n",
              "  'UPPER WAHIAWA 874.3, HI US',\n",
              "  21.4992,\n",
              "  -158.0111,\n",
              "  306.6,\n",
              "  None),\n",
              " ('USC00511918',\n",
              "  'HONOLULU OBSERVATORY 702.2, HI US',\n",
              "  21.3152,\n",
              "  -157.9992,\n",
              "  0.9,\n",
              "  0.0),\n",
              " ('USC00513117', 'KANEOHE 838.1, HI US', 21.4234, -157.8015, 14.6, 0.0),\n",
              " ('USC00514830',\n",
              "  'KUALOA RANCH HEADQUARTERS 886.9, HI US',\n",
              "  21.5213,\n",
              "  -157.8374,\n",
              "  7.0,\n",
              "  0.0),\n",
              " ('USC00516128',\n",
              "  'MANOA LYON ARBO 785.2, HI US',\n",
              "  21.3331,\n",
              "  -157.8025,\n",
              "  152.4,\n",
              "  0.0),\n",
              " ('USC00517948', 'PEARL CITY, HI US', 21.3934, -157.9751, 11.9, 0.0),\n",
              " ('USC00519281',\n",
              "  'WAIHEE 837.5, HI US',\n",
              "  21.45167,\n",
              "  -157.84888999999998,\n",
              "  32.9,\n",
              "  0.0),\n",
              " ('USC00519523',\n",
              "  'WAIMANALO EXPERIMENTAL FARM, HI US',\n",
              "  21.33556,\n",
              "  -157.71139,\n",
              "  19.5,\n",
              "  0.06),\n",
              " ('USC00519397', 'WAIKIKI 717.2, HI US', 21.2716, -157.8168, 3.0, 0.08)]"
            ]
          },
          "metadata": {
            "tags": []
          },
          "execution_count": 45
        }
      ]
    },
    {
      "metadata": {
        "id": "pB0UT9NEqbWU",
        "colab_type": "text"
      },
      "cell_type": "markdown",
      "source": [
        "## Optional Challenge Assignment"
      ]
    },
    {
      "metadata": {
        "id": "x3lhZq62qbWZ",
        "colab_type": "code",
        "colab": {
          "base_uri": "https://localhost:8080/",
          "height": 34
        },
        "outputId": "755907cc-f031-4a62-e33b-3895626b0be2"
      },
      "cell_type": "code",
      "source": [
        "# Create a query that will calculate the daily normals \n",
        "# (i.e. the averages for tmin, tmax, and tavg for all historic data matching a specific month and day)\n",
        "\n",
        "def daily_normals(date):\n",
        "    \"\"\"Daily Normals.\n",
        "    \n",
        "    Args:\n",
        "        date (str): A date string in the format '%m-%d'\n",
        "        \n",
        "    Returns:\n",
        "        A list of tuples containing the daily normals, tmin, tavg, and tmax\n",
        "    \n",
        "    \"\"\"\n",
        "    \n",
        "    sel = [func.min(Measurement.tobs), func.avg(Measurement.tobs), func.max(Measurement.tobs)]\n",
        "    return session.query(*sel).filter(func.strftime(\"%m-%d\", Measurement.date) == date).all()\n",
        "    \n",
        "daily_normals(\"01-01\")"
      ],
      "execution_count": 16,
      "outputs": [
        {
          "output_type": "execute_result",
          "data": {
            "text/plain": [
              "[(62.0, 69.15384615384616, 77.0)]"
            ]
          },
          "metadata": {
            "tags": []
          },
          "execution_count": 16
        }
      ]
    },
    {
      "metadata": {
        "id": "Sn6MR4-4qbWm",
        "colab_type": "code",
        "colab": {}
      },
      "cell_type": "code",
      "source": [
        "# calculate the daily normals for your trip\n",
        "# push each tuple of calculations into a list called `normals`\n",
        "\n",
        "# Set the start and end date of the trip\n",
        "\n",
        "# Use the start and end date to create a range of dates\n",
        "\n",
        "# Stip off the year and save a list of %m-%d strings\n",
        "\n",
        "# Loop through the list of %m-%d strings and calculate the normals for each date\n"
      ],
      "execution_count": 0,
      "outputs": []
    },
    {
      "metadata": {
        "id": "geGYX2mxqbWx",
        "colab_type": "code",
        "colab": {}
      },
      "cell_type": "code",
      "source": [
        "# Load the previous query results into a Pandas DataFrame and add the `trip_dates` range as the `date` index\n"
      ],
      "execution_count": 0,
      "outputs": []
    },
    {
      "metadata": {
        "id": "Pp6reiqlqbXC",
        "colab_type": "code",
        "colab": {}
      },
      "cell_type": "code",
      "source": [
        "# Plot the daily normals as an area plot with `stacked=False`\n"
      ],
      "execution_count": 0,
      "outputs": []
    }
  ]
}